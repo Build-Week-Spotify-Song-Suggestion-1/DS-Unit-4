{
 "cells": [
  {
   "cell_type": "code",
   "execution_count": 1,
   "metadata": {
    "scrolled": true
   },
   "outputs": [],
   "source": [
    "import os\n",
    "import sys\n",
    "import requests\n",
    "\n",
    "import numpy as np\n",
    "import pandas as pd\n",
    "\n",
    "from tensorflow.keras.models import Model, Sequential, load_model\n",
    "from tensorflow.keras.layers import Input, Dense\n",
    "from tensorflow.keras.callbacks import EarlyStopping, ModelCheckpoint\n",
    "\n",
    "from sklearn.preprocessing import StandardScaler\n",
    "from sklearn.neighbors import NearestNeighbors"
   ]
  },
  {
   "cell_type": "code",
   "execution_count": 2,
   "metadata": {},
   "outputs": [],
   "source": [
    "np.random.seed(42)\n"
   ]
  },
  {
   "cell_type": "code",
   "execution_count": 3,
   "metadata": {},
   "outputs": [
    {
     "data": {
      "text/html": [
       "<div>\n",
       "<style scoped>\n",
       "    .dataframe tbody tr th:only-of-type {\n",
       "        vertical-align: middle;\n",
       "    }\n",
       "\n",
       "    .dataframe tbody tr th {\n",
       "        vertical-align: top;\n",
       "    }\n",
       "\n",
       "    .dataframe thead th {\n",
       "        text-align: right;\n",
       "    }\n",
       "</style>\n",
       "<table border=\"1\" class=\"dataframe\">\n",
       "  <thead>\n",
       "    <tr style=\"text-align: right;\">\n",
       "      <th></th>\n",
       "      <th>acousticness</th>\n",
       "      <th>danceability</th>\n",
       "      <th>energy</th>\n",
       "      <th>instrumentalness</th>\n",
       "      <th>key</th>\n",
       "      <th>liveness</th>\n",
       "      <th>loudness</th>\n",
       "      <th>mode</th>\n",
       "      <th>speechiness</th>\n",
       "      <th>tempo</th>\n",
       "      <th>valence</th>\n",
       "    </tr>\n",
       "  </thead>\n",
       "  <tbody>\n",
       "    <tr>\n",
       "      <th>0</th>\n",
       "      <td>0.995</td>\n",
       "      <td>0.708</td>\n",
       "      <td>0.1950</td>\n",
       "      <td>0.563</td>\n",
       "      <td>10</td>\n",
       "      <td>0.1510</td>\n",
       "      <td>-12.428</td>\n",
       "      <td>1</td>\n",
       "      <td>0.0506</td>\n",
       "      <td>118.469</td>\n",
       "      <td>0.7790</td>\n",
       "    </tr>\n",
       "    <tr>\n",
       "      <th>1</th>\n",
       "      <td>0.994</td>\n",
       "      <td>0.379</td>\n",
       "      <td>0.0135</td>\n",
       "      <td>0.901</td>\n",
       "      <td>8</td>\n",
       "      <td>0.0763</td>\n",
       "      <td>-28.454</td>\n",
       "      <td>1</td>\n",
       "      <td>0.0462</td>\n",
       "      <td>83.972</td>\n",
       "      <td>0.0767</td>\n",
       "    </tr>\n",
       "    <tr>\n",
       "      <th>2</th>\n",
       "      <td>0.604</td>\n",
       "      <td>0.749</td>\n",
       "      <td>0.2200</td>\n",
       "      <td>0.000</td>\n",
       "      <td>5</td>\n",
       "      <td>0.1190</td>\n",
       "      <td>-19.924</td>\n",
       "      <td>0</td>\n",
       "      <td>0.9290</td>\n",
       "      <td>107.177</td>\n",
       "      <td>0.8800</td>\n",
       "    </tr>\n",
       "    <tr>\n",
       "      <th>3</th>\n",
       "      <td>0.995</td>\n",
       "      <td>0.781</td>\n",
       "      <td>0.1300</td>\n",
       "      <td>0.887</td>\n",
       "      <td>1</td>\n",
       "      <td>0.1110</td>\n",
       "      <td>-14.734</td>\n",
       "      <td>0</td>\n",
       "      <td>0.0926</td>\n",
       "      <td>108.003</td>\n",
       "      <td>0.7200</td>\n",
       "    </tr>\n",
       "    <tr>\n",
       "      <th>4</th>\n",
       "      <td>0.990</td>\n",
       "      <td>0.210</td>\n",
       "      <td>0.2040</td>\n",
       "      <td>0.908</td>\n",
       "      <td>11</td>\n",
       "      <td>0.0980</td>\n",
       "      <td>-16.829</td>\n",
       "      <td>1</td>\n",
       "      <td>0.0424</td>\n",
       "      <td>62.149</td>\n",
       "      <td>0.0693</td>\n",
       "    </tr>\n",
       "  </tbody>\n",
       "</table>\n",
       "</div>"
      ],
      "text/plain": [
       "   acousticness  danceability  energy  instrumentalness  key  liveness  \\\n",
       "0         0.995         0.708  0.1950             0.563   10    0.1510   \n",
       "1         0.994         0.379  0.0135             0.901    8    0.0763   \n",
       "2         0.604         0.749  0.2200             0.000    5    0.1190   \n",
       "3         0.995         0.781  0.1300             0.887    1    0.1110   \n",
       "4         0.990         0.210  0.2040             0.908   11    0.0980   \n",
       "\n",
       "   loudness  mode  speechiness    tempo  valence  \n",
       "0   -12.428     1       0.0506  118.469   0.7790  \n",
       "1   -28.454     1       0.0462   83.972   0.0767  \n",
       "2   -19.924     0       0.9290  107.177   0.8800  \n",
       "3   -14.734     0       0.0926  108.003   0.7200  \n",
       "4   -16.829     1       0.0424   62.149   0.0693  "
      ]
     },
     "execution_count": 3,
     "metadata": {},
     "output_type": "execute_result"
    }
   ],
   "source": [
    "df_path = os.path.join(os.getcwd(), os.pardir, 'data', 'data.csv')\n",
    "df = pd.read_csv(df_path)\n",
    "\n",
    "features = ['acousticness', 'danceability','energy',\n",
    "               'instrumentalness', 'key', 'liveness', 'loudness',\n",
    "               'mode','speechiness', 'tempo',\n",
    "               'valence']\n",
    "df_train = df[features]\n",
    "\n",
    "df_train.head()"
   ]
  },
  {
   "cell_type": "code",
   "execution_count": 4,
   "metadata": {},
   "outputs": [
    {
     "data": {
      "text/html": [
       "<div>\n",
       "<style scoped>\n",
       "    .dataframe tbody tr th:only-of-type {\n",
       "        vertical-align: middle;\n",
       "    }\n",
       "\n",
       "    .dataframe tbody tr th {\n",
       "        vertical-align: top;\n",
       "    }\n",
       "\n",
       "    .dataframe thead th {\n",
       "        text-align: right;\n",
       "    }\n",
       "</style>\n",
       "<table border=\"1\" class=\"dataframe\">\n",
       "  <thead>\n",
       "    <tr style=\"text-align: right;\">\n",
       "      <th></th>\n",
       "      <th>acousticness</th>\n",
       "      <th>danceability</th>\n",
       "      <th>energy</th>\n",
       "      <th>instrumentalness</th>\n",
       "      <th>key</th>\n",
       "      <th>liveness</th>\n",
       "      <th>loudness</th>\n",
       "      <th>mode</th>\n",
       "      <th>speechiness</th>\n",
       "      <th>tempo</th>\n",
       "      <th>valence</th>\n",
       "    </tr>\n",
       "  </thead>\n",
       "  <tbody>\n",
       "    <tr>\n",
       "      <th>0</th>\n",
       "      <td>1.332319</td>\n",
       "      <td>0.968662</td>\n",
       "      <td>-1.097999</td>\n",
       "      <td>1.296562</td>\n",
       "      <td>1.365333</td>\n",
       "      <td>-0.314998</td>\n",
       "      <td>-0.186652</td>\n",
       "      <td>0.641344</td>\n",
       "      <td>-0.289840</td>\n",
       "      <td>0.049500</td>\n",
       "      <td>0.940924</td>\n",
       "    </tr>\n",
       "    <tr>\n",
       "      <th>1</th>\n",
       "      <td>1.329664</td>\n",
       "      <td>-0.907636</td>\n",
       "      <td>-1.776785</td>\n",
       "      <td>2.389253</td>\n",
       "      <td>0.796383</td>\n",
       "      <td>-0.737519</td>\n",
       "      <td>-3.014729</td>\n",
       "      <td>0.641344</td>\n",
       "      <td>-0.319186</td>\n",
       "      <td>-1.073199</td>\n",
       "      <td>-1.735454</td>\n",
       "    </tr>\n",
       "    <tr>\n",
       "      <th>2</th>\n",
       "      <td>0.294154</td>\n",
       "      <td>1.202486</td>\n",
       "      <td>-1.004503</td>\n",
       "      <td>-0.523513</td>\n",
       "      <td>-0.057043</td>\n",
       "      <td>-0.495997</td>\n",
       "      <td>-1.509457</td>\n",
       "      <td>-1.559227</td>\n",
       "      <td>5.568626</td>\n",
       "      <td>-0.317996</td>\n",
       "      <td>1.325822</td>\n",
       "    </tr>\n",
       "    <tr>\n",
       "      <th>3</th>\n",
       "      <td>1.332319</td>\n",
       "      <td>1.384983</td>\n",
       "      <td>-1.341091</td>\n",
       "      <td>2.343994</td>\n",
       "      <td>-1.194943</td>\n",
       "      <td>-0.541247</td>\n",
       "      <td>-0.593587</td>\n",
       "      <td>-1.559227</td>\n",
       "      <td>-0.009722</td>\n",
       "      <td>-0.291114</td>\n",
       "      <td>0.716082</td>\n",
       "    </tr>\n",
       "    <tr>\n",
       "      <th>4</th>\n",
       "      <td>1.319044</td>\n",
       "      <td>-1.871449</td>\n",
       "      <td>-1.064341</td>\n",
       "      <td>2.411883</td>\n",
       "      <td>1.649808</td>\n",
       "      <td>-0.614778</td>\n",
       "      <td>-0.963288</td>\n",
       "      <td>0.641344</td>\n",
       "      <td>-0.344530</td>\n",
       "      <td>-1.783425</td>\n",
       "      <td>-1.763655</td>\n",
       "    </tr>\n",
       "  </tbody>\n",
       "</table>\n",
       "</div>"
      ],
      "text/plain": [
       "   acousticness  danceability    energy  instrumentalness       key  liveness  \\\n",
       "0      1.332319      0.968662 -1.097999          1.296562  1.365333 -0.314998   \n",
       "1      1.329664     -0.907636 -1.776785          2.389253  0.796383 -0.737519   \n",
       "2      0.294154      1.202486 -1.004503         -0.523513 -0.057043 -0.495997   \n",
       "3      1.332319      1.384983 -1.341091          2.343994 -1.194943 -0.541247   \n",
       "4      1.319044     -1.871449 -1.064341          2.411883  1.649808 -0.614778   \n",
       "\n",
       "   loudness      mode  speechiness     tempo   valence  \n",
       "0 -0.186652  0.641344    -0.289840  0.049500  0.940924  \n",
       "1 -3.014729  0.641344    -0.319186 -1.073199 -1.735454  \n",
       "2 -1.509457 -1.559227     5.568626 -0.317996  1.325822  \n",
       "3 -0.593587 -1.559227    -0.009722 -0.291114  0.716082  \n",
       "4 -0.963288  0.641344    -0.344530 -1.783425 -1.763655  "
      ]
     },
     "execution_count": 4,
     "metadata": {},
     "output_type": "execute_result"
    }
   ],
   "source": [
    "scaler = StandardScaler()\n",
    "df_train_scaled = pd.DataFrame(scaler.fit_transform(df_train),\n",
    "                               columns=features)\n",
    "df_train_scaled.head()"
   ]
  },
  {
   "cell_type": "markdown",
   "metadata": {},
   "source": [
    "### Autoencoder"
   ]
  },
  {
   "cell_type": "code",
   "execution_count": 11,
   "metadata": {},
   "outputs": [
    {
     "name": "stdout",
     "output_type": "stream",
     "text": [
      "Model: \"sequential_5\"\n",
      "_________________________________________________________________\n",
      "Layer (type)                 Output Shape              Param #   \n",
      "=================================================================\n",
      "encode_2 (Dense)             (None, 5)                 60        \n",
      "=================================================================\n",
      "Total params: 60\n",
      "Trainable params: 60\n",
      "Non-trainable params: 0\n",
      "_________________________________________________________________\n"
     ]
    }
   ],
   "source": [
    "n = df_train_scaled.shape[1]\n",
    "\n",
    "# Encoder\n",
    "\n",
    "encoder = Sequential([Dense(n // 2, name='encode_2', input_shape=(n,))])\n",
    "\n",
    "encoder.compile(optimizer='adam', loss='mse')\n",
    "encoder.summary()\n"
   ]
  },
  {
   "cell_type": "code",
   "execution_count": 13,
   "metadata": {},
   "outputs": [
    {
     "name": "stdout",
     "output_type": "stream",
     "text": [
      "Model: \"sequential_6\"\n",
      "_________________________________________________________________\n",
      "Layer (type)                 Output Shape              Param #   \n",
      "=================================================================\n",
      "decode_2 (Dense)             (None, 11)                66        \n",
      "=================================================================\n",
      "Total params: 66\n",
      "Trainable params: 66\n",
      "Non-trainable params: 0\n",
      "_________________________________________________________________\n"
     ]
    }
   ],
   "source": [
    "# Decoder\n",
    "decoder = Sequential([Dense(n, name='decode_2', input_shape=(n // 2,))])\n",
    "\n",
    "decoder.compile(optimizer='adam', loss='mse')\n",
    "decoder.summary()"
   ]
  },
  {
   "cell_type": "markdown",
   "metadata": {},
   "source": [
    "### Build the full autoencoder and train it"
   ]
  },
  {
   "cell_type": "code",
   "execution_count": 14,
   "metadata": {},
   "outputs": [
    {
     "name": "stdout",
     "output_type": "stream",
     "text": [
      "Model: \"model_2\"\n",
      "_________________________________________________________________\n",
      "Layer (type)                 Output Shape              Param #   \n",
      "=================================================================\n",
      "input_3 (InputLayer)         [(None, 11)]              0         \n",
      "_________________________________________________________________\n",
      "sequential_5 (Sequential)    (None, 5)                 60        \n",
      "_________________________________________________________________\n",
      "sequential_6 (Sequential)    (None, 11)                66        \n",
      "=================================================================\n",
      "Total params: 126\n",
      "Trainable params: 126\n",
      "Non-trainable params: 0\n",
      "_________________________________________________________________\n"
     ]
    }
   ],
   "source": [
    "input_layer = Input(shape=(n,))\n",
    "encoder_output = encoder(input_layer)\n",
    "decoder_output = decoder(encoder_output)\n",
    "autoencoder = Model(input_layer, decoder_output)\n",
    "autoencoder.compile(optimizer='adam', loss='mse')\n",
    "\n",
    "autoencoder.summary()\n"
   ]
  },
  {
   "cell_type": "code",
   "execution_count": 15,
   "metadata": {},
   "outputs": [
    {
     "name": "stdout",
     "output_type": "stream",
     "text": [
      "WARNING:tensorflow:Falling back from v2 loop because of error: Failed to find data adapter that can handle input: <class 'pandas.core.frame.DataFrame'>, <class 'NoneType'>\n",
      "Train on 169909 samples\n",
      "Epoch 1/20\n",
      "169909/169909 [==============================] - 4s 23us/sample - loss: 0.5066\n",
      "Epoch 2/20\n",
      "169909/169909 [==============================] - 2s 13us/sample - loss: 0.3221\n",
      "Epoch 3/20\n",
      "169909/169909 [==============================] - 2s 13us/sample - loss: 0.3083\n",
      "Epoch 4/20\n",
      "169909/169909 [==============================] - 2s 12us/sample - loss: 0.3064\n",
      "Epoch 5/20\n",
      "169909/169909 [==============================] - 2s 13us/sample - loss: 0.3056\n",
      "Epoch 6/20\n",
      "169909/169909 [==============================] - 2s 12us/sample - loss: 0.3048\n",
      "Epoch 7/20\n",
      "169909/169909 [==============================] - 2s 13us/sample - loss: 0.3043\n",
      "Epoch 8/20\n",
      "169909/169909 [==============================] - 2s 12us/sample - loss: 0.3039\n",
      "Epoch 9/20\n",
      "169909/169909 [==============================] - 2s 13us/sample - loss: 0.3038\n",
      "Epoch 10/20\n",
      "169909/169909 [==============================] - 2s 13us/sample - loss: 0.3037\n",
      "Epoch 11/20\n",
      "169909/169909 [==============================] - 2s 13us/sample - loss: 0.3037\n",
      "Epoch 12/20\n",
      "169909/169909 [==============================] - 2s 12us/sample - loss: 0.3037\n",
      "Epoch 13/20\n",
      "169909/169909 [==============================] - 2s 12us/sample - loss: 0.3037\n",
      "Epoch 14/20\n",
      "169909/169909 [==============================] - 2s 12us/sample - loss: 0.3037\n",
      "Epoch 15/20\n",
      "169909/169909 [==============================] - 2s 12us/sample - loss: 0.3037\n",
      "Epoch 16/20\n",
      "169909/169909 [==============================] - 2s 13us/sample - loss: 0.3037\n"
     ]
    }
   ],
   "source": [
    "stop = EarlyStopping(monitor='loss', \n",
    "                     patience=5, \n",
    "                     restore_best_weights=True)\n",
    "\n",
    "history = autoencoder.fit(df_train_scaled, \n",
    "                          df_train_scaled, \n",
    "                          epochs=20, \n",
    "                          batch_size=128,\n",
    "                          callbacks=[stop])"
   ]
  },
  {
   "cell_type": "markdown",
   "metadata": {},
   "source": [
    "### Save the trained models"
   ]
  },
  {
   "cell_type": "code",
   "execution_count": 16,
   "metadata": {},
   "outputs": [],
   "source": [
    "encoder.save('encoder.h5')\n",
    "decoder.save('decoder.h5')\n",
    "autoencoder.save('autoencoder.h5')"
   ]
  },
  {
   "cell_type": "markdown",
   "metadata": {},
   "source": [
    "### Build an end to end model with encoder and nearest neighbors\n",
    "\n",
    "We are stacking a keras NN encoder on top of a scikit-learn nearest neighbors model. The former reduces the dimensionality, from 11 to 5 features. "
   ]
  },
  {
   "cell_type": "code",
   "execution_count": 31,
   "metadata": {},
   "outputs": [],
   "source": [
    "class End2EndModel():\n",
    "    def __init__(self, n_examples, encoder_file):\n",
    "        self.scaler = StandardScaler()\n",
    "        self.encode = load_model(encoder_file)\n",
    "\n",
    "        self.nearest_n = NearestNeighbors(n_examples)\n",
    "        \n",
    "    def fit(self, X):\n",
    "        X_scaled = self.scaler.fit_transform(X)\n",
    "        encoded = self.encode.predict(X_scaled)\n",
    "        nn = self.nearest_n.fit(encoded)\n",
    "        return nn\n",
    "    \n",
    "    def predict(self, x):\n",
    "        x_scaled = self.scaler.transform(x)\n",
    "        encoded = self.encode.predict(x_scaled)\n",
    "        scores, indices = self.nearest_n.kneighbors(encoded)\n",
    "        return scores, indices\n",
    "                "
   ]
  },
  {
   "cell_type": "code",
   "execution_count": 32,
   "metadata": {},
   "outputs": [
    {
     "name": "stderr",
     "output_type": "stream",
     "text": [
      "C:\\Users\\A\\AppData\\Local\\Continuum\\anaconda3\\envs\\song-recommend\\lib\\site-packages\\sklearn\\utils\\validation.py:70: FutureWarning: Pass n_neighbors=10 as keyword args. From version 0.25 passing these as positional arguments will result in an error\n",
      "  FutureWarning)\n"
     ]
    }
   ],
   "source": [
    "model = End2EndModel(10, 'encoder.h5')"
   ]
  },
  {
   "cell_type": "code",
   "execution_count": 33,
   "metadata": {},
   "outputs": [
    {
     "data": {
      "text/plain": [
       "NearestNeighbors(n_neighbors=10)"
      ]
     },
     "execution_count": 33,
     "metadata": {},
     "output_type": "execute_result"
    }
   ],
   "source": [
    "model.fit(df_train)"
   ]
  },
  {
   "cell_type": "markdown",
   "metadata": {},
   "source": [
    "### Try it out with an item from the dataset"
   ]
  },
  {
   "cell_type": "code",
   "execution_count": 34,
   "metadata": {},
   "outputs": [
    {
     "data": {
      "text/plain": [
       "array([[ 1.3900e-01,  3.1600e-01,  7.7200e-01,  5.3200e-01,  1.1000e+01,\n",
       "         2.3800e-01, -1.1605e+01,  0.0000e+00,  6.4900e-02,  8.8648e+01,\n",
       "         6.6000e-01]])"
      ]
     },
     "execution_count": 34,
     "metadata": {},
     "output_type": "execute_result"
    }
   ],
   "source": [
    "test = np.array(df_train.iloc[3764])\n",
    "test = test.reshape(1, -1)\n",
    "test\n"
   ]
  },
  {
   "cell_type": "code",
   "execution_count": 36,
   "metadata": {},
   "outputs": [
    {
     "data": {
      "text/plain": [
       "(array([[8.42936970e-08, 3.09293462e-01, 3.32585634e-01, 4.00838659e-01,\n",
       "         4.18509141e-01, 4.19979617e-01, 4.35221213e-01, 5.10055541e-01,\n",
       "         5.10543625e-01, 5.13623751e-01]]),\n",
       " array([[  3764,   4432, 125668, 149375,  55051,  73453,  46726,  46445,\n",
       "           5257, 151981]], dtype=int64))"
      ]
     },
     "execution_count": 36,
     "metadata": {},
     "output_type": "execute_result"
    }
   ],
   "source": [
    "scores, indices = model.predict(test)\n",
    "scores, indices"
   ]
  },
  {
   "cell_type": "markdown",
   "metadata": {},
   "source": [
    "### Retrieve our suggestions"
   ]
  },
  {
   "cell_type": "code",
   "execution_count": 37,
   "metadata": {},
   "outputs": [
    {
     "data": {
      "text/html": [
       "<div>\n",
       "<style scoped>\n",
       "    .dataframe tbody tr th:only-of-type {\n",
       "        vertical-align: middle;\n",
       "    }\n",
       "\n",
       "    .dataframe tbody tr th {\n",
       "        vertical-align: top;\n",
       "    }\n",
       "\n",
       "    .dataframe thead th {\n",
       "        text-align: right;\n",
       "    }\n",
       "</style>\n",
       "<table border=\"1\" class=\"dataframe\">\n",
       "  <thead>\n",
       "    <tr style=\"text-align: right;\">\n",
       "      <th></th>\n",
       "      <th>index</th>\n",
       "      <th>track_id</th>\n",
       "      <th>artists</th>\n",
       "      <th>title</th>\n",
       "      <th>score</th>\n",
       "    </tr>\n",
       "  </thead>\n",
       "  <tbody>\n",
       "    <tr>\n",
       "      <th>0</th>\n",
       "      <td>3764</td>\n",
       "      <td>1qPSxRyMfES52PbpxCzWcd</td>\n",
       "      <td>['Al Di Meola']</td>\n",
       "      <td>Race With Devil On Spanish Highway</td>\n",
       "      <td>8.429370e-08</td>\n",
       "    </tr>\n",
       "    <tr>\n",
       "      <th>1</th>\n",
       "      <td>4432</td>\n",
       "      <td>0lFQqCxJiT0pvUPms0bzSg</td>\n",
       "      <td>['Thin Lizzy']</td>\n",
       "      <td>Thunder and Lightning</td>\n",
       "      <td>3.092935e-01</td>\n",
       "    </tr>\n",
       "    <tr>\n",
       "      <th>2</th>\n",
       "      <td>125668</td>\n",
       "      <td>7g3htkaLz4ETFn0cifwM3y</td>\n",
       "      <td>['Lana Del Rey']</td>\n",
       "      <td>High By The Beach</td>\n",
       "      <td>3.325856e-01</td>\n",
       "    </tr>\n",
       "    <tr>\n",
       "      <th>3</th>\n",
       "      <td>149375</td>\n",
       "      <td>7cophW0FqeDEEW9i57WBvL</td>\n",
       "      <td>['Whitesnake']</td>\n",
       "      <td>Love Ain't No Stranger</td>\n",
       "      <td>4.008387e-01</td>\n",
       "    </tr>\n",
       "    <tr>\n",
       "      <th>4</th>\n",
       "      <td>55051</td>\n",
       "      <td>0M8MPqaoGgkRjkG9kgZ3n4</td>\n",
       "      <td>['Justine Skye', 'Tyga']</td>\n",
       "      <td>Collide (feat. Tyga)</td>\n",
       "      <td>4.185091e-01</td>\n",
       "    </tr>\n",
       "    <tr>\n",
       "      <th>5</th>\n",
       "      <td>73453</td>\n",
       "      <td>2MOurmmosbkle2QinkSZAz</td>\n",
       "      <td>['Willie Hutch']</td>\n",
       "      <td>Out There</td>\n",
       "      <td>4.199796e-01</td>\n",
       "    </tr>\n",
       "    <tr>\n",
       "      <th>6</th>\n",
       "      <td>46726</td>\n",
       "      <td>57HwKH3pHLeelTkckr94qf</td>\n",
       "      <td>['The Dodos']</td>\n",
       "      <td>Horny Hippies</td>\n",
       "      <td>4.352212e-01</td>\n",
       "    </tr>\n",
       "    <tr>\n",
       "      <th>7</th>\n",
       "      <td>46445</td>\n",
       "      <td>3oLullgZ9FsDo6O93nppku</td>\n",
       "      <td>['Underoath']</td>\n",
       "      <td>Some Will Seek Forgiveness, Others Escape</td>\n",
       "      <td>5.100555e-01</td>\n",
       "    </tr>\n",
       "    <tr>\n",
       "      <th>8</th>\n",
       "      <td>5257</td>\n",
       "      <td>2PAol2oDdGSHys8hc0gtLX</td>\n",
       "      <td>['Tori Amos']</td>\n",
       "      <td>Precious Things</td>\n",
       "      <td>5.105436e-01</td>\n",
       "    </tr>\n",
       "    <tr>\n",
       "      <th>9</th>\n",
       "      <td>151981</td>\n",
       "      <td>26gexilnrxUTfBhiudNBrT</td>\n",
       "      <td>['Los Temerarios']</td>\n",
       "      <td>Te Hice Mal</td>\n",
       "      <td>5.136238e-01</td>\n",
       "    </tr>\n",
       "  </tbody>\n",
       "</table>\n",
       "</div>"
      ],
      "text/plain": [
       "    index                track_id                   artists  \\\n",
       "0    3764  1qPSxRyMfES52PbpxCzWcd           ['Al Di Meola']   \n",
       "1    4432  0lFQqCxJiT0pvUPms0bzSg            ['Thin Lizzy']   \n",
       "2  125668  7g3htkaLz4ETFn0cifwM3y          ['Lana Del Rey']   \n",
       "3  149375  7cophW0FqeDEEW9i57WBvL            ['Whitesnake']   \n",
       "4   55051  0M8MPqaoGgkRjkG9kgZ3n4  ['Justine Skye', 'Tyga']   \n",
       "5   73453  2MOurmmosbkle2QinkSZAz          ['Willie Hutch']   \n",
       "6   46726  57HwKH3pHLeelTkckr94qf             ['The Dodos']   \n",
       "7   46445  3oLullgZ9FsDo6O93nppku             ['Underoath']   \n",
       "8    5257  2PAol2oDdGSHys8hc0gtLX             ['Tori Amos']   \n",
       "9  151981  26gexilnrxUTfBhiudNBrT        ['Los Temerarios']   \n",
       "\n",
       "                                       title         score  \n",
       "0         Race With Devil On Spanish Highway  8.429370e-08  \n",
       "1                      Thunder and Lightning  3.092935e-01  \n",
       "2                          High By The Beach  3.325856e-01  \n",
       "3                     Love Ain't No Stranger  4.008387e-01  \n",
       "4                       Collide (feat. Tyga)  4.185091e-01  \n",
       "5                                  Out There  4.199796e-01  \n",
       "6                              Horny Hippies  4.352212e-01  \n",
       "7  Some Will Seek Forgiveness, Others Escape  5.100555e-01  \n",
       "8                            Precious Things  5.105436e-01  \n",
       "9                                Te Hice Mal  5.136238e-01  "
      ]
     },
     "execution_count": 37,
     "metadata": {},
     "output_type": "execute_result"
    }
   ],
   "source": [
    "results = []\n",
    "for i, index in enumerate(indices[0]):\n",
    "    track_id = df.iloc[index]['id']\n",
    "    artists = df.iloc[index]['artists']\n",
    "    title = df.iloc[index]['name']\n",
    "    results.append({'index': index,\n",
    "                    'track_id': track_id,\n",
    "                    'artists': artists,\n",
    "                    'title': title,\n",
    "                    'score': scores[0][i]})\n",
    "    \n",
    "result_table = pd.DataFrame(results)\n",
    "result_table.sort_values(by='score')"
   ]
  },
  {
   "cell_type": "markdown",
   "metadata": {},
   "source": [
    "### Explore ways to persist the scikit-learn layer"
   ]
  },
  {
   "cell_type": "code",
   "execution_count": 45,
   "metadata": {},
   "outputs": [],
   "source": [
    "import pickle\n",
    "with open('nearest.pickle', 'wb') as f:\n",
    "    pickle.dump(model.nearest_n, f)"
   ]
  },
  {
   "cell_type": "code",
   "execution_count": 46,
   "metadata": {},
   "outputs": [
    {
     "data": {
      "text/plain": [
       "['nearest.joblib']"
      ]
     },
     "execution_count": 46,
     "metadata": {},
     "output_type": "execute_result"
    }
   ],
   "source": [
    "from joblib import dump, load\n",
    "dump(model.nearest_n, 'nearest.joblib')"
   ]
  },
  {
   "cell_type": "code",
   "execution_count": null,
   "metadata": {},
   "outputs": [],
   "source": []
  }
 ],
 "metadata": {
  "kernelspec": {
   "display_name": "song_recommend",
   "language": "python",
   "name": "song_recommend"
  },
  "language_info": {
   "codemirror_mode": {
    "name": "ipython",
    "version": 3
   },
   "file_extension": ".py",
   "mimetype": "text/x-python",
   "name": "python",
   "nbconvert_exporter": "python",
   "pygments_lexer": "ipython3",
   "version": "3.7.9"
  }
 },
 "nbformat": 4,
 "nbformat_minor": 4
}
